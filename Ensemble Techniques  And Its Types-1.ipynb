{
 "cells": [
  {
   "cell_type": "markdown",
   "metadata": {},
   "source": [
    "Q1. What is an ensemble technique in machine learning?"
   ]
  },
  {
   "cell_type": "markdown",
   "metadata": {},
   "source": [
    "ANS = Ensemble techniques in machine learning combine multiple individual models to improve predictive performance."
   ]
  },
  {
   "cell_type": "markdown",
   "metadata": {},
   "source": [
    "Q2. Why are ensemble techniques used in machine learning?"
   ]
  },
  {
   "cell_type": "markdown",
   "metadata": {},
   "source": [
    "ANS  = . Ensemble techniques are used in machine learning to increase model accuracy, reduce overfitting, and improve robustness by aggregating the predictions of multiple models."
   ]
  },
  {
   "cell_type": "markdown",
   "metadata": {},
   "source": [
    "Q3. What is bagging?"
   ]
  },
  {
   "cell_type": "markdown",
   "metadata": {},
   "source": [
    "ANS  =    Bagging (Bootstrap Aggregating) is an ensemble technique where multiple models are trained on different subsets of the training data, and their predictions are averaged to make the final prediction."
   ]
  },
  {
   "cell_type": "markdown",
   "metadata": {},
   "source": [
    "Q4. What is boosting?"
   ]
  },
  {
   "cell_type": "markdown",
   "metadata": {},
   "source": [
    "ANS  = Boosting is an ensemble technique where multiple weak learners are combined to create a strong learner. It trains models sequentially, where each subsequent model focuses on the samples that previous models misclassified."
   ]
  },
  {
   "cell_type": "markdown",
   "metadata": {},
   "source": [
    "Q5. What are the benefits of using ensemble techniques?"
   ]
  },
  {
   "cell_type": "markdown",
   "metadata": {},
   "source": [
    "ANS  =  The benefits of using ensemble techniques include improved predictive performance, reduced overfitting, increased robustness to noise, and better generalization."
   ]
  },
  {
   "cell_type": "markdown",
   "metadata": {},
   "source": [
    "Q6. Are ensemble techniques always better than individual models?"
   ]
  },
  {
   "cell_type": "markdown",
   "metadata": {},
   "source": [
    "ANS =  Ensemble techniques are not always better than individual models. Their effectiveness depends on factors such as the diversity of base models, the quality of the data, and the problem at hand."
   ]
  },
  {
   "cell_type": "markdown",
   "metadata": {},
   "source": [
    "Q7. How is the confidence interval calculated using bootstrap?"
   ]
  },
  {
   "cell_type": "markdown",
   "metadata": {},
   "source": [
    "ANS  =  The confidence interval using bootstrap is calculated by resampling the dataset multiple times, estimating the statistic of interest (e.g., mean, median) for each resampled dataset, and then determining the range of values that capture a specified percentage (e.g., 95%) of the estimated statistics."
   ]
  },
  {
   "cell_type": "markdown",
   "metadata": {},
   "source": [
    "Q8. How does bootstrap work and What are the steps involved in bootstrap?"
   ]
  },
  {
   "cell_type": "markdown",
   "metadata": {},
   "source": [
    "ANS = Bootstrap is a resampling technique where samples are drawn with replacement from the original dataset to create multiple bootstrap samples. The steps involved in bootstrap are:\n",
    "\n",
    "Draw a sample (with replacement) from the original dataset.\n",
    "Calculate the statistic of interest (e.g., mean, median) for the sample.\n",
    "Repeat steps 1 and 2 multiple times to create multiple bootstrap samples.\n",
    "Estimate the confidence interval using the distribution of the bootstrap statistics."
   ]
  },
  {
   "cell_type": "markdown",
   "metadata": {},
   "source": [
    "Q9. A researcher wants to estimate the mean height of a population of trees. They measure the height of a\n",
    "sample of 50 trees and obtain a mean height of 15 meters and a standard deviation of 2 meters. Use\n",
    "bootstrap to estimate the 95% confidence interval for the population mean height."
   ]
  },
  {
   "cell_type": "markdown",
   "metadata": {},
   "source": [
    "ANS = Using bootstrap, the researcher can estimate the 95% confidence interval for the population mean height by repeatedly resampling the observed heights, calculating the mean for each resampled dataset, and then determining the range of values that captures 95% of the estimated means."
   ]
  }
 ],
 "metadata": {
  "language_info": {
   "name": "python"
  }
 },
 "nbformat": 4,
 "nbformat_minor": 2
}
